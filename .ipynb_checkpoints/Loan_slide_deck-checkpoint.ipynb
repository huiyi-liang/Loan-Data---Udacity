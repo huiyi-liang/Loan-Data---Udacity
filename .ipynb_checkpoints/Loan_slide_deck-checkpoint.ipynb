version https://git-lfs.github.com/spec/v1
oid sha256:d49521f5caabba4c3b1ee21c06aa6897f585b27765a986954848d50227b1a628
size 233374
